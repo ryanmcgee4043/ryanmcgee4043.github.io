{
 "cells": [
  {
   "cell_type": "markdown",
   "id": "vietnamese-stanley",
   "metadata": {},
   "source": [
    "# Artificial Intelligence in the public eye\n",
    "\n",
    "It is undentiable that Artificial Intelligence is one of the most rapidly developing fields in computer science, and with all of its connotations and implications, the public's view of Artificial Intelligence is extremely important.\n",
    "\n",
    "Is Artificial Intelligence dangerous? Will it destroy humanity? Will it send humanity into a golden age? These are all questions that people tend to think about when they hear the phrase 'AI', and the answers to these questions are currently unknown. What is known is that all of these questions have yes as a possible answer. AI could destroy humanity, and AI could save humanity. AI could also fizzle out and reveal itself to be an impossible problem to solve. At the moment, its impossible to say what will happen, but at best, its mysterious. The problem of AI carries numerous important questions that touch on some of the most important questions for a person, most notably, what even constitutes consciousness? With these implications, its no wonder AI has captured the public interest.\n",
    "\n",
    "Movies like Terminator and 2001: A Space Odyssey demonize the possibility of AI, and the cliche tends to be that AI will become evil, that it will be cold and unemotional, yet perfectly efficient. Is this the truth? Again, the answer is amgiguous, but the public perception of AI is going to be important in its development. Perhaps rampant fear of AI would lead to strong regulation in its development, and hamper research, or maybe optimism about AI leads to it developing too fast, and the cataclysmic cliche comes to pass. Regardless of what the truth of AI may be, public perception will be important no matter what, and looking at how that public perception has changed over time, and what exactly in AI people worry about, will reveal the trend of the public's viewpoint into the future."
   ]
  },
  {
   "cell_type": "markdown",
   "id": "stunning-stranger",
   "metadata": {},
   "source": [
    "## Reading the dataset\n",
    "\n",
    "To start with, we must import the data from the .csv file"
   ]
  },
  {
   "cell_type": "code",
   "execution_count": 1,
   "id": "linear-polymer",
   "metadata": {
    "scrolled": false
   },
   "outputs": [],
   "source": [
    "import pandas as pd\n",
    "import datetime\n",
    "import numpy as np"
   ]
  },
  {
   "cell_type": "code",
   "execution_count": 2,
   "id": "painful-mechanism",
   "metadata": {},
   "outputs": [],
   "source": [
    "dataset = pd.read_csv(\"robot-ai-all-public.csv\")"
   ]
  },
  {
   "cell_type": "markdown",
   "id": "maritime-world",
   "metadata": {},
   "source": [
    "So what exactly does this dataset look like?"
   ]
  },
  {
   "cell_type": "code",
   "execution_count": 3,
   "id": "swiss-helicopter",
   "metadata": {},
   "outputs": [
    {
     "data": {
      "text/html": [
       "<div>\n",
       "<style scoped>\n",
       "    .dataframe tbody tr th:only-of-type {\n",
       "        vertical-align: middle;\n",
       "    }\n",
       "\n",
       "    .dataframe tbody tr th {\n",
       "        vertical-align: top;\n",
       "    }\n",
       "\n",
       "    .dataframe thead th {\n",
       "        text-align: right;\n",
       "    }\n",
       "</style>\n",
       "<table border=\"1\" class=\"dataframe\">\n",
       "  <thead>\n",
       "    <tr style=\"text-align: right;\">\n",
       "      <th></th>\n",
       "      <th>Article ID</th>\n",
       "      <th>Article Date</th>\n",
       "      <th>Paragraph number</th>\n",
       "      <th>NYT section</th>\n",
       "      <th>Paragraph</th>\n",
       "      <th>Title</th>\n",
       "      <th>WorkTimeInSeconds</th>\n",
       "      <th>AI Mood</th>\n",
       "      <th>AI Relevance</th>\n",
       "      <th>Fiction</th>\n",
       "      <th>...</th>\n",
       "      <th>Other (negative)</th>\n",
       "      <th>Cyborg (positive)</th>\n",
       "      <th>Decisions (positive)</th>\n",
       "      <th>Education (positive)</th>\n",
       "      <th>Entertain (positive)</th>\n",
       "      <th>Healthcare (positive)</th>\n",
       "      <th>Singularity (positive)</th>\n",
       "      <th>Transportation (positive)</th>\n",
       "      <th>Work (positive)</th>\n",
       "      <th>Other (positive)</th>\n",
       "    </tr>\n",
       "  </thead>\n",
       "  <tbody>\n",
       "    <tr>\n",
       "      <th>0</th>\n",
       "      <td>4fd1cbc98eb7c8105d701286</td>\n",
       "      <td>1996-10-06 00:00:00 UTC</td>\n",
       "      <td>18</td>\n",
       "      <td>New York and Region</td>\n",
       "      <td>Thus, next weekend will feature the robot who ...</td>\n",
       "      <td>LONG ISLAND JOURNAL</td>\n",
       "      <td>1472</td>\n",
       "      <td>4</td>\n",
       "      <td>5</td>\n",
       "      <td>0</td>\n",
       "      <td>...</td>\n",
       "      <td>{}</td>\n",
       "      <td>0</td>\n",
       "      <td>0</td>\n",
       "      <td>0</td>\n",
       "      <td>0</td>\n",
       "      <td>0</td>\n",
       "      <td>0</td>\n",
       "      <td>0</td>\n",
       "      <td>0</td>\n",
       "      <td>{}</td>\n",
       "    </tr>\n",
       "    <tr>\n",
       "      <th>1</th>\n",
       "      <td>4fd1cbc98eb7c8105d701286</td>\n",
       "      <td>1996-10-06 00:00:00 UTC</td>\n",
       "      <td>18</td>\n",
       "      <td>New York and Region</td>\n",
       "      <td>Thus, next weekend will feature the robot who ...</td>\n",
       "      <td>LONG ISLAND JOURNAL</td>\n",
       "      <td>49</td>\n",
       "      <td>4</td>\n",
       "      <td>5</td>\n",
       "      <td>0</td>\n",
       "      <td>...</td>\n",
       "      <td>{}</td>\n",
       "      <td>0</td>\n",
       "      <td>0</td>\n",
       "      <td>0</td>\n",
       "      <td>0</td>\n",
       "      <td>0</td>\n",
       "      <td>0</td>\n",
       "      <td>0</td>\n",
       "      <td>0</td>\n",
       "      <td>{}</td>\n",
       "    </tr>\n",
       "    <tr>\n",
       "      <th>2</th>\n",
       "      <td>4fd1cbc98eb7c8105d701286</td>\n",
       "      <td>1996-10-06 00:00:00 UTC</td>\n",
       "      <td>18</td>\n",
       "      <td>New York and Region</td>\n",
       "      <td>Thus, next weekend will feature the robot who ...</td>\n",
       "      <td>LONG ISLAND JOURNAL</td>\n",
       "      <td>66</td>\n",
       "      <td>5</td>\n",
       "      <td>5</td>\n",
       "      <td>0</td>\n",
       "      <td>...</td>\n",
       "      <td>{}</td>\n",
       "      <td>0</td>\n",
       "      <td>0</td>\n",
       "      <td>0</td>\n",
       "      <td>1</td>\n",
       "      <td>0</td>\n",
       "      <td>0</td>\n",
       "      <td>0</td>\n",
       "      <td>0</td>\n",
       "      <td>{}</td>\n",
       "    </tr>\n",
       "    <tr>\n",
       "      <th>3</th>\n",
       "      <td>54b0793b7988100e21965770</td>\n",
       "      <td>2006-07-31 00:00:00 UTC</td>\n",
       "      <td>16</td>\n",
       "      <td>Technology</td>\n",
       "      <td>That phrase was coined in the 1970۪s by Masahi...</td>\n",
       "      <td>Camera System Creates Sophisticated 3-D Effects</td>\n",
       "      <td>3053</td>\n",
       "      <td>3</td>\n",
       "      <td>4</td>\n",
       "      <td>0</td>\n",
       "      <td>...</td>\n",
       "      <td>{}</td>\n",
       "      <td>0</td>\n",
       "      <td>0</td>\n",
       "      <td>0</td>\n",
       "      <td>0</td>\n",
       "      <td>0</td>\n",
       "      <td>0</td>\n",
       "      <td>0</td>\n",
       "      <td>0</td>\n",
       "      <td>{}</td>\n",
       "    </tr>\n",
       "    <tr>\n",
       "      <th>4</th>\n",
       "      <td>54b0793b7988100e21965770</td>\n",
       "      <td>2006-07-31 00:00:00 UTC</td>\n",
       "      <td>16</td>\n",
       "      <td>Technology</td>\n",
       "      <td>That phrase was coined in the 1970۪s by Masahi...</td>\n",
       "      <td>Camera System Creates Sophisticated 3-D Effects</td>\n",
       "      <td>25</td>\n",
       "      <td>3</td>\n",
       "      <td>4</td>\n",
       "      <td>0</td>\n",
       "      <td>...</td>\n",
       "      <td>{}</td>\n",
       "      <td>0</td>\n",
       "      <td>0</td>\n",
       "      <td>0</td>\n",
       "      <td>0</td>\n",
       "      <td>0</td>\n",
       "      <td>0</td>\n",
       "      <td>0</td>\n",
       "      <td>0</td>\n",
       "      <td>{}</td>\n",
       "    </tr>\n",
       "  </tbody>\n",
       "</table>\n",
       "<p>5 rows × 27 columns</p>\n",
       "</div>"
      ],
      "text/plain": [
       "                 Article ID             Article Date Paragraph number  \\\n",
       "0  4fd1cbc98eb7c8105d701286  1996-10-06 00:00:00 UTC               18   \n",
       "1  4fd1cbc98eb7c8105d701286  1996-10-06 00:00:00 UTC               18   \n",
       "2  4fd1cbc98eb7c8105d701286  1996-10-06 00:00:00 UTC               18   \n",
       "3  54b0793b7988100e21965770  2006-07-31 00:00:00 UTC               16   \n",
       "4  54b0793b7988100e21965770  2006-07-31 00:00:00 UTC               16   \n",
       "\n",
       "           NYT section                                          Paragraph  \\\n",
       "0  New York and Region  Thus, next weekend will feature the robot who ...   \n",
       "1  New York and Region  Thus, next weekend will feature the robot who ...   \n",
       "2  New York and Region  Thus, next weekend will feature the robot who ...   \n",
       "3           Technology  That phrase was coined in the 1970۪s by Masahi...   \n",
       "4           Technology  That phrase was coined in the 1970۪s by Masahi...   \n",
       "\n",
       "                                             Title  WorkTimeInSeconds  \\\n",
       "0                              LONG ISLAND JOURNAL               1472   \n",
       "1                              LONG ISLAND JOURNAL                 49   \n",
       "2                              LONG ISLAND JOURNAL                 66   \n",
       "3  Camera System Creates Sophisticated 3-D Effects               3053   \n",
       "4  Camera System Creates Sophisticated 3-D Effects                 25   \n",
       "\n",
       "   AI Mood  AI Relevance  Fiction  ...  Other (negative)  Cyborg (positive)  \\\n",
       "0        4             5        0  ...                {}                  0   \n",
       "1        4             5        0  ...                {}                  0   \n",
       "2        5             5        0  ...                {}                  0   \n",
       "3        3             4        0  ...                {}                  0   \n",
       "4        3             4        0  ...                {}                  0   \n",
       "\n",
       "   Decisions (positive)  Education (positive)  Entertain (positive)  \\\n",
       "0                     0                     0                     0   \n",
       "1                     0                     0                     0   \n",
       "2                     0                     0                     1   \n",
       "3                     0                     0                     0   \n",
       "4                     0                     0                     0   \n",
       "\n",
       "   Healthcare (positive)  Singularity (positive) Transportation (positive)  \\\n",
       "0                      0                       0                         0   \n",
       "1                      0                       0                         0   \n",
       "2                      0                       0                         0   \n",
       "3                      0                       0                         0   \n",
       "4                      0                       0                         0   \n",
       "\n",
       "   Work (positive)  Other (positive)  \n",
       "0                0                {}  \n",
       "1                0                {}  \n",
       "2                0                {}  \n",
       "3                0                {}  \n",
       "4                0                {}  \n",
       "\n",
       "[5 rows x 27 columns]"
      ]
     },
     "execution_count": 3,
     "metadata": {},
     "output_type": "execute_result"
    }
   ],
   "source": [
    "dataset.head()"
   ]
  },
  {
   "cell_type": "markdown",
   "id": "transsexual-asset",
   "metadata": {},
   "source": [
    "As we can see, this dataset is organized so that it gives us the date of the article, the NYT section, the general AI Mood and the AI Relevance. It also tells us whether it has a positive or negative mood about AI (using a 5 point scale with 3 being neutral, 5 being very positive, 5 being very negative) and how related the article is to AI (again, using a 5-point scale). We are also given a binary indicator in the dataset telling us whether or not the article includes ficitonal examples of AI (Fiction).\n",
    "\n",
    "Then, for each article, the dataset gives a binary indicator of if there is negative or positive sentiment for each of the following categories: Human combination with AI (Cyborg), Ethics in AI (Ethics), Military use of AI (Military), Societal Progress using AI (Progress), the AI Singularity (Singularity), and how AI will effect Work (Work). These categories are what we will use to measure not only the general sentiment of AI, but also to try to do some prediction of the trends of AI into the future.\n",
    "\n",
    "There is also some metadata included that we will remove, for it is not relevant in our analysis.\n",
    "\n",
    "Let's start cleaning up the dataset. From the first 7 columns, we remove everything except for date and NYT Section, because those columns are not important. We also can drop the 'other' categories for positive and negative viewpoints on AI, because we wont use those in this analysis."
   ]
  },
  {
   "cell_type": "code",
   "execution_count": 4,
   "id": "directed-pendant",
   "metadata": {},
   "outputs": [],
   "source": [
    "\n",
    "dataset = dataset.drop(columns=['Article ID', 'Paragraph number', 'Paragraph', 'Title', 'WorkTimeInSeconds'])\n",
    "\n",
    "dataset = dataset.drop(columns=['Other (negative)', 'Other (positive)'])"
   ]
  },
  {
   "cell_type": "markdown",
   "id": "successful-argument",
   "metadata": {},
   "source": [
    "Next, we will convert the Article Date into a DateTime object, since DateTime Objects are much easier to work with for graphical and analytical purposes.\n",
    "We will also make a new column that stores just the year the article was published."
   ]
  },
  {
   "cell_type": "code",
   "execution_count": 5,
   "id": "three-quarterly",
   "metadata": {},
   "outputs": [],
   "source": [
    "dates = []\n",
    "years = []\n",
    "\n",
    "for i in dataset.iterrows():\n",
    "    new_date = list(i)[1][0]\n",
    "    \n",
    "    if isinstance(new_date, float):\n",
    "        new_datetime = datetime.date(1, 1, 1)\n",
    "        year = 1\n",
    "    else:\n",
    "        new_date = new_date.split(\" \")\n",
    "        new_date = new_date[0].split(\"-\")\n",
    "        \n",
    "        if len(new_date) == 3:\n",
    "            new_datetime = datetime.date(int(new_date[0]), int(new_date[1]), int(new_date[2]))\n",
    "            year = int(new_date[0])\n",
    "        else:\n",
    "            new_datetime = datetime.date(1, 1, 1)\n",
    "            year = 1\n",
    "    \n",
    "    dates.append(new_datetime)\n",
    "    years.append(year)\n",
    "\n",
    "dataset[\"DateTimes\"] = dates\n",
    "dataset[\"Year\"] = years"
   ]
  },
  {
   "cell_type": "markdown",
   "id": "speaking-market",
   "metadata": {},
   "source": [
    "We would also like to remove all of the articles that don't have a date attached to them. In the previous code where we converted the date to DateTime objects, I simply encoded these dates as 1/1/1, which is very easy to check for. So all we do now is create a new dataset that only includes articles with dates."
   ]
  },
  {
   "cell_type": "code",
   "execution_count": 6,
   "id": "respected-formation",
   "metadata": {},
   "outputs": [],
   "source": [
    "new_dataset = []\n",
    "\n",
    "for i in dataset.iterrows():\n",
    "    date = list(i)[1][20]\n",
    "    \n",
    "    # The year is only 1 if there was no date, so we include this article if the date didn't have a year of 1\n",
    "    if date.year != 1:\n",
    "        new_dataset.append(list(i)[1])\n",
    "\n",
    "dataset = pd.DataFrame(new_dataset)"
   ]
  },
  {
   "cell_type": "code",
   "execution_count": 7,
   "id": "editorial-fleet",
   "metadata": {},
   "outputs": [
    {
     "data": {
      "text/html": [
       "<div>\n",
       "<style scoped>\n",
       "    .dataframe tbody tr th:only-of-type {\n",
       "        vertical-align: middle;\n",
       "    }\n",
       "\n",
       "    .dataframe tbody tr th {\n",
       "        vertical-align: top;\n",
       "    }\n",
       "\n",
       "    .dataframe thead th {\n",
       "        text-align: right;\n",
       "    }\n",
       "</style>\n",
       "<table border=\"1\" class=\"dataframe\">\n",
       "  <thead>\n",
       "    <tr style=\"text-align: right;\">\n",
       "      <th></th>\n",
       "      <th>Article Date</th>\n",
       "      <th>NYT section</th>\n",
       "      <th>AI Mood</th>\n",
       "      <th>AI Relevance</th>\n",
       "      <th>Fiction</th>\n",
       "      <th>Controling AI (negative)</th>\n",
       "      <th>Cyborg (negative)</th>\n",
       "      <th>Ethics (negative)</th>\n",
       "      <th>Military (negative)</th>\n",
       "      <th>Progress (negative)</th>\n",
       "      <th>...</th>\n",
       "      <th>Cyborg (positive)</th>\n",
       "      <th>Decisions (positive)</th>\n",
       "      <th>Education (positive)</th>\n",
       "      <th>Entertain (positive)</th>\n",
       "      <th>Healthcare (positive)</th>\n",
       "      <th>Singularity (positive)</th>\n",
       "      <th>Transportation (positive)</th>\n",
       "      <th>Work (positive)</th>\n",
       "      <th>DateTimes</th>\n",
       "      <th>Year</th>\n",
       "    </tr>\n",
       "  </thead>\n",
       "  <tbody>\n",
       "    <tr>\n",
       "      <th>0</th>\n",
       "      <td>1996-10-06 00:00:00 UTC</td>\n",
       "      <td>New York and Region</td>\n",
       "      <td>4</td>\n",
       "      <td>5</td>\n",
       "      <td>0</td>\n",
       "      <td>0</td>\n",
       "      <td>0</td>\n",
       "      <td>0</td>\n",
       "      <td>0</td>\n",
       "      <td>0</td>\n",
       "      <td>...</td>\n",
       "      <td>0</td>\n",
       "      <td>0</td>\n",
       "      <td>0</td>\n",
       "      <td>0</td>\n",
       "      <td>0</td>\n",
       "      <td>0</td>\n",
       "      <td>0</td>\n",
       "      <td>0</td>\n",
       "      <td>1996-10-06</td>\n",
       "      <td>1996</td>\n",
       "    </tr>\n",
       "    <tr>\n",
       "      <th>1</th>\n",
       "      <td>1996-10-06 00:00:00 UTC</td>\n",
       "      <td>New York and Region</td>\n",
       "      <td>4</td>\n",
       "      <td>5</td>\n",
       "      <td>0</td>\n",
       "      <td>0</td>\n",
       "      <td>0</td>\n",
       "      <td>0</td>\n",
       "      <td>0</td>\n",
       "      <td>0</td>\n",
       "      <td>...</td>\n",
       "      <td>0</td>\n",
       "      <td>0</td>\n",
       "      <td>0</td>\n",
       "      <td>0</td>\n",
       "      <td>0</td>\n",
       "      <td>0</td>\n",
       "      <td>0</td>\n",
       "      <td>0</td>\n",
       "      <td>1996-10-06</td>\n",
       "      <td>1996</td>\n",
       "    </tr>\n",
       "    <tr>\n",
       "      <th>2</th>\n",
       "      <td>1996-10-06 00:00:00 UTC</td>\n",
       "      <td>New York and Region</td>\n",
       "      <td>5</td>\n",
       "      <td>5</td>\n",
       "      <td>0</td>\n",
       "      <td>0</td>\n",
       "      <td>0</td>\n",
       "      <td>0</td>\n",
       "      <td>0</td>\n",
       "      <td>0</td>\n",
       "      <td>...</td>\n",
       "      <td>0</td>\n",
       "      <td>0</td>\n",
       "      <td>0</td>\n",
       "      <td>1</td>\n",
       "      <td>0</td>\n",
       "      <td>0</td>\n",
       "      <td>0</td>\n",
       "      <td>0</td>\n",
       "      <td>1996-10-06</td>\n",
       "      <td>1996</td>\n",
       "    </tr>\n",
       "    <tr>\n",
       "      <th>3</th>\n",
       "      <td>2006-07-31 00:00:00 UTC</td>\n",
       "      <td>Technology</td>\n",
       "      <td>3</td>\n",
       "      <td>4</td>\n",
       "      <td>0</td>\n",
       "      <td>0</td>\n",
       "      <td>0</td>\n",
       "      <td>0</td>\n",
       "      <td>0</td>\n",
       "      <td>0</td>\n",
       "      <td>...</td>\n",
       "      <td>0</td>\n",
       "      <td>0</td>\n",
       "      <td>0</td>\n",
       "      <td>0</td>\n",
       "      <td>0</td>\n",
       "      <td>0</td>\n",
       "      <td>0</td>\n",
       "      <td>0</td>\n",
       "      <td>2006-07-31</td>\n",
       "      <td>2006</td>\n",
       "    </tr>\n",
       "    <tr>\n",
       "      <th>4</th>\n",
       "      <td>2006-07-31 00:00:00 UTC</td>\n",
       "      <td>Technology</td>\n",
       "      <td>3</td>\n",
       "      <td>4</td>\n",
       "      <td>0</td>\n",
       "      <td>0</td>\n",
       "      <td>0</td>\n",
       "      <td>0</td>\n",
       "      <td>0</td>\n",
       "      <td>0</td>\n",
       "      <td>...</td>\n",
       "      <td>0</td>\n",
       "      <td>0</td>\n",
       "      <td>0</td>\n",
       "      <td>0</td>\n",
       "      <td>0</td>\n",
       "      <td>0</td>\n",
       "      <td>0</td>\n",
       "      <td>0</td>\n",
       "      <td>2006-07-31</td>\n",
       "      <td>2006</td>\n",
       "    </tr>\n",
       "  </tbody>\n",
       "</table>\n",
       "<p>5 rows × 22 columns</p>\n",
       "</div>"
      ],
      "text/plain": [
       "              Article Date          NYT section  AI Mood  AI Relevance  \\\n",
       "0  1996-10-06 00:00:00 UTC  New York and Region        4             5   \n",
       "1  1996-10-06 00:00:00 UTC  New York and Region        4             5   \n",
       "2  1996-10-06 00:00:00 UTC  New York and Region        5             5   \n",
       "3  2006-07-31 00:00:00 UTC           Technology        3             4   \n",
       "4  2006-07-31 00:00:00 UTC           Technology        3             4   \n",
       "\n",
       "   Fiction  Controling AI (negative)  Cyborg (negative)  Ethics (negative)  \\\n",
       "0        0                         0                  0                  0   \n",
       "1        0                         0                  0                  0   \n",
       "2        0                         0                  0                  0   \n",
       "3        0                         0                  0                  0   \n",
       "4        0                         0                  0                  0   \n",
       "\n",
       "   Military (negative)  Progress (negative)  ...  Cyborg (positive)  \\\n",
       "0                    0                    0  ...                  0   \n",
       "1                    0                    0  ...                  0   \n",
       "2                    0                    0  ...                  0   \n",
       "3                    0                    0  ...                  0   \n",
       "4                    0                    0  ...                  0   \n",
       "\n",
       "   Decisions (positive)  Education (positive)  Entertain (positive)  \\\n",
       "0                     0                     0                     0   \n",
       "1                     0                     0                     0   \n",
       "2                     0                     0                     1   \n",
       "3                     0                     0                     0   \n",
       "4                     0                     0                     0   \n",
       "\n",
       "   Healthcare (positive)  Singularity (positive)  Transportation (positive)  \\\n",
       "0                      0                       0                          0   \n",
       "1                      0                       0                          0   \n",
       "2                      0                       0                          0   \n",
       "3                      0                       0                          0   \n",
       "4                      0                       0                          0   \n",
       "\n",
       "   Work (positive)   DateTimes  Year  \n",
       "0                0  1996-10-06  1996  \n",
       "1                0  1996-10-06  1996  \n",
       "2                0  1996-10-06  1996  \n",
       "3                0  2006-07-31  2006  \n",
       "4                0  2006-07-31  2006  \n",
       "\n",
       "[5 rows x 22 columns]"
      ]
     },
     "execution_count": 7,
     "metadata": {},
     "output_type": "execute_result"
    }
   ],
   "source": [
    "dataset.head()"
   ]
  },
  {
   "cell_type": "markdown",
   "id": "abroad-writer",
   "metadata": {},
   "source": [
    "# Data Visualization and Exploratory Analysis\n",
    "\n",
    "Now that we have the data cleaned up and ready to use, we will start by graphing the data in a few different ways so that we can get a good look at the data in an easier to understand way.\n",
    "\n",
    "First, we will do a basic graph of the general sentiment on AI over time in a scatterplot. Since there are so many datapoints, we will only graph a random sample size of the data."
   ]
  },
  {
   "cell_type": "code",
   "execution_count": 8,
   "id": "verified-trance",
   "metadata": {},
   "outputs": [
    {
     "data": {
      "text/plain": [
       "<AxesSubplot:xlabel='Year', ylabel='AI Mood'>"
      ]
     },
     "execution_count": 8,
     "metadata": {},
     "output_type": "execute_result"
    },
    {
     "data": {
      "image/png": "[encoded data removed]",
      "text/plain": [
       "<Figure size 432x288 with 1 Axes>"
      ]
     },
     "metadata": {
      "needs_background": "light"
     },
     "output_type": "display_data"
    }
   ],
   "source": [
    "sampled_dataset = dataset.sample(200)\n",
    "\n",
    "pfit = np.polyfit(sampled_dataset['Year'], sampled_dataset['AI Mood'], 1)\n",
    "func = np.poly1d(pfit)\n",
    "\n",
    "sampled_dataset.insert(21, \"Fit\", func(sampled_dataset[\"Year\"]))\n",
    "\n",
    "plt = sampled_dataset.plot.scatter(x = \"Year\", y = \"AI Mood\")\n",
    "sampled_dataset.plot(x = \"Year\", y = \"Fit\", color = \"Red\", ax=plt)\n"
   ]
  },
  {
   "cell_type": "markdown",
   "id": "surprised-stewart",
   "metadata": {},
   "source": [
    "As we can see, there is a slight trend downwards in the general opinion on AI, but it does remain slightly above three, which means it stays positive. However, there do also seem to be quite a lot of neutral articles that have been written, which may be polluting our data, so lets try only graphing articles that have either a positive or a negative view on AI (A.K.A. only articles with an AI Mood of 1, 2, 4 or 5)."
   ]
  },
  {
   "cell_type": "code",
   "execution_count": 9,
   "id": "downtown-rings",
   "metadata": {},
   "outputs": [],
   "source": [
    "temp_data = []\n",
    "\n",
    "for i in dataset.iterrows():\n",
    "    mood = list(i)[1][2]\n",
    "    \n",
    "    if mood != 3:\n",
    "        temp_data.append(list(i)[1])\n",
    "        \n",
    "test_dataset = pd.DataFrame(temp_data)"
   ]
  },
  {
   "cell_type": "markdown",
   "id": "pediatric-europe",
   "metadata": {},
   "source": [
    "Now we will run the analysis again to see if we get a different result."
   ]
  },
  {
   "cell_type": "code",
   "execution_count": 10,
   "id": "descending-kazakhstan",
   "metadata": {},
   "outputs": [
    {
     "data": {
      "text/plain": [
       "<AxesSubplot:xlabel='Year', ylabel='AI Mood'>"
      ]
     },
     "execution_count": 10,
     "metadata": {},
     "output_type": "execute_result"
    },
    {
     "data": {
      "image/png": "[encoded data removed]",
      "text/plain": [
       "<Figure size 432x288 with 1 Axes>"
      ]
     },
     "metadata": {
      "needs_background": "light"
     },
     "output_type": "display_data"
    }
   ],
   "source": [
    "sampled_dataset = test_dataset.sample(200)\n",
    "\n",
    "pfit = np.polyfit(sampled_dataset['Year'], sampled_dataset['AI Mood'], 1)\n",
    "func = np.poly1d(pfit)\n",
    "\n",
    "sampled_dataset.insert(21, \"Fit\", func(sampled_dataset[\"Year\"]))\n",
    "\n",
    "plt = sampled_dataset.plot.scatter(x = \"Year\", y = \"AI Mood\")\n",
    "sampled_dataset.plot(x = \"Year\", y = \"Fit\", color = \"Red\", ax=plt)"
   ]
  },
  {
   "cell_type": "markdown",
   "id": "unusual-mixer",
   "metadata": {},
   "source": [
    "As we can see, if we remove all of the neutral articles, then the trend becomes a little bit more clear. Not only are articles generally positive around the 90's, but the trend downwards as we get closer to modern day is pronounced. \n",
    "\n",
    "Of course, linear regression is not the only method of analysis we can do, and one thing that we may notice in this graph is that it seems based on an eye test that there are more 1 and 2 level articles in 2005 and onwards compared to before, so even if the average hasn't decreased that much, perhaps there is more extreme negativity in general.\n",
    "\n",
    "So, for the next graph we will graph the number of 1 Mood Articles per year, and the number of 1 Mood Articles per year in an attempt to see if, despite growing optimism about AI, there is also more fear."
   ]
  },
  {
   "cell_type": "code",
   "execution_count": 11,
   "id": "desperate-saskatchewan",
   "metadata": {},
   "outputs": [
    {
     "data": {
      "text/plain": [
       "<AxesSubplot:title={'center':'Positive Articles per Year'}, xlabel='Year', ylabel='Number of Very Positive Articles'>"
      ]
     },
     "execution_count": 11,
     "metadata": {},
     "output_type": "execute_result"
    },
    {
     "data": {
      "image/png": "[encoded data removed]",
      "text/plain": [
       "<Figure size 432x288 with 1 Axes>"
      ]
     },
     "metadata": {
      "needs_background": "light"
     },
     "output_type": "display_data"
    },
    {
     "data": {
      "image/png": "[encoded data removed]",
      "text/plain": [
       "<Figure size 432x288 with 1 Axes>"
      ]
     },
     "metadata": {
      "needs_background": "light"
     },
     "output_type": "display_data"
    }
   ],
   "source": [
    "temp_data = []\n",
    "\n",
    "num_of_ones = np.zeros(31)\n",
    "num_of_fives = np.zeros(31)\n",
    "\n",
    "for i in dataset.iterrows():\n",
    "    mood = list(i)[1][2]\n",
    "    \n",
    "    if mood == 1:\n",
    "        num_of_ones[list(i)[1][21] - 1986] = num_of_ones[list(i)[1][21] - 1986] + 1\n",
    "    elif mood == 5:\n",
    "        num_of_fives[list(i)[1][21] - 1986] = num_of_fives[list(i)[1][21] - 1986] + 1\n",
    "        \n",
    "new_dataframe_ones = []\n",
    "new_dataframe_fives = []\n",
    "y = 1986\n",
    "\n",
    "for i in num_of_ones:\n",
    "    new_dataframe_ones.append([y, i])\n",
    "    \n",
    "    y += 1\n",
    "\n",
    "y = 1986\n",
    "\n",
    "for i in num_of_fives:\n",
    "    new_dataframe_fives.append([y, i])\n",
    "    \n",
    "    y += 1\n",
    "\n",
    "test_dataset_ones = pd.DataFrame(new_dataframe_ones)\n",
    "test_dataset_ones.plot(x = 0, y = 1, xlabel = \"Year\", ylabel = \"Number of Very Negative Articles\", title = \"Negative Articles per Year\")\n",
    "\n",
    "test_dataset_fives = pd.DataFrame(new_dataframe_fives)\n",
    "test_dataset_fives.plot(x = 0, y = 1, xlabel = \"Year\", ylabel = \"Number of Very Positive Articles\", title = \"Positive Articles per Year\")"
   ]
  },
  {
   "cell_type": "markdown",
   "id": "tamil-population",
   "metadata": {},
   "source": [
    "So as we can see, for both positive and negative articles, the number increased substantially, which is not surprising. However, one interesting phenomenon is how around the year 2000 is when the number of positive articles sharply increased, while only in the year 2005 did the number of negative articles increase. This fits the idea that with all of the positive hope about AI comes a delayed  sense of foreboading about its future. It seems like for a while, there is lots of talk about the positives, but it takes some time for people to realize the negatives of AI. Also something noteworthy is that, from 2012 to 2015, there was an extremely sharp increase in negative articles, much moreso than positive articles. This could mean that negativity is increasing at a much faster rate in recent years compared to positivty."
   ]
  },
  {
   "cell_type": "code",
   "execution_count": null,
   "id": "lucky-dayton",
   "metadata": {},
   "outputs": [],
   "source": []
  }
 ],
 "metadata": {
  "kernelspec": {
   "display_name": "Python 3",
   "language": "python",
   "name": "python3"
  },
  "language_info": {
   "codemirror_mode": {
    "name": "ipython",
    "version": 3
   },
   "file_extension": ".py",
   "mimetype": "text/x-python",
   "name": "python",
   "nbconvert_exporter": "python",
   "pygments_lexer": "ipython3",
   "version": "3.8.6"
  }
 },
 "nbformat": 4,
 "nbformat_minor": 5
}
